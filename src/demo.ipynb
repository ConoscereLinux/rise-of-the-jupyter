{
 "cells": [
  {
   "cell_type": "markdown",
   "id": "349434bd-c6ac-4702-9aac-02fa0764f596",
   "metadata": {},
   "source": [
    "# Slide 1\n",
    "Questo è il testo della prima Slide."
   ]
  },
  {
   "cell_type": "markdown",
   "id": "a141e909-6cde-4788-871f-741ab9e42d88",
   "metadata": {},
   "source": [
    "## Sotto Titolo 1\n",
    "Questa è una seconda slide."
   ]
  },
  {
   "cell_type": "markdown",
   "id": "aa54add7-6c97-4723-9750-34b2c7e6adec",
   "metadata": {},
   "source": [
    "## Sotto Titolo 2\n",
    "Questa è una seconda slide."
   ]
  },
  {
   "cell_type": "markdown",
   "id": "ecdc2f4b-ad16-4098-83dd-315e97268da9",
   "metadata": {},
   "source": [
    "## Sotto Titolo 3\n",
    "Questa è una seconda slide."
   ]
  },
  {
   "cell_type": "markdown",
   "id": "b7afc8f4-9db3-4d53-995f-02794ed06caa",
   "metadata": {},
   "source": [
    "# Slide 2\n",
    "Questo è il testo della seconda Slide."
   ]
  }
 ],
 "metadata": {
  "kernelspec": {
   "display_name": "Python 3 (ipykernel)",
   "language": "python",
   "name": "python3"
  },
  "language_info": {
   "codemirror_mode": {
    "name": "ipython",
    "version": 3
   },
   "file_extension": ".py",
   "mimetype": "text/x-python",
   "name": "python",
   "nbconvert_exporter": "python",
   "pygments_lexer": "ipython3",
   "version": "3.12.5"
  }
 },
 "nbformat": 4,
 "nbformat_minor": 5
}
